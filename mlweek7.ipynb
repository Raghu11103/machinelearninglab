{
 "cells": [
  {
   "cell_type": "code",
   "execution_count": 13,
   "id": "85b6a82e",
   "metadata": {},
   "outputs": [
    {
     "name": "stdout",
     "output_type": "stream",
     "text": [
      "Mean:  53.0\n",
      "Variance:  2.5\n"
     ]
    }
   ],
   "source": [
    "#Create a vector (array) of 1XN dimension representing N-\n",
    "#dimensional feature vector of a sample. Write a program to\n",
    "#compute the mean and variance of the elements present in the array.\n",
    "\n",
    "import numpy as np\n",
    "vector = np.array([51, 52, 53, 54, 55])\n",
    "mean = np.mean(vector)\n",
    "variance = np.var(vector, ddof=1)\n",
    "print(\"Mean: \", mean)\n",
    "print(\"Variance: \", variance)"
   ]
  },
  {
   "cell_type": "code",
   "execution_count": 3,
   "id": "a96afee0",
   "metadata": {},
   "outputs": [
    {
     "name": "stdout",
     "output_type": "stream",
     "text": [
      "Covariance:  2.5\n"
     ]
    }
   ],
   "source": [
    "#Create two vectors each of dimension 1XM each representing N-\n",
    "#dimensional feature vector of a sample. Write a program to\n",
    "#compute the Covariance between them.\n",
    "\n",
    "import numpy as np\n",
    "array_a = np.array([5, 6, 7, 8, 9])\n",
    "array_b = np.array([10, 11, 12, 13, 14])\n",
    "covariance = np.cov(array_a, array_b, ddof=1)[0][1]\n",
    "print(\"Covariance: \", covariance)\n"
   ]
  },
  {
   "cell_type": "code",
   "execution_count": 4,
   "id": "5f97c101",
   "metadata": {},
   "outputs": [
    {
     "name": "stdout",
     "output_type": "stream",
     "text": [
      "Correlation:  1.0\n"
     ]
    }
   ],
   "source": [
    "#Create two vectors each of dimension 1XN. Write a program to compute the Correlation between them.\n",
    "\n",
    "import numpy as np\n",
    "array_one = np.array([3, 6, 9, 12, 15])\n",
    "array_two = np.array([5, 10, 15, 20, 25])\n",
    "correlation_result = np.corrcoef(array_one, array_two)[0][1]\n",
    "print(\"Correlation: \", correlation_result)\n"
   ]
  },
  {
   "cell_type": "code",
   "execution_count": 12,
   "id": "c8fdd365",
   "metadata": {},
   "outputs": [
    {
     "name": "stdout",
     "output_type": "stream",
     "text": [
      "Covariance matrix:\n",
      "[[72.33333333 72.33333333 72.33333333]\n",
      " [72.33333333 72.33333333 72.33333333]\n",
      " [72.33333333 72.33333333 72.33333333]]\n",
      "Correlation matrix:\n",
      "[[1. 1. 1.]\n",
      " [1. 1. 1.]\n",
      " [1. 1. 1.]]\n"
     ]
    }
   ],
   "source": [
    "#Create a Matrix of MXN dimension representing the M-dimensional\n",
    "#feature vector for N number of samples i. e (i,j)th entry of the matrix\n",
    "#represents the ith feature of jth sample. Write a program to compute\n",
    "#the covariance matrix and correlation matrix. Comment on takeaways from these matrixes.\n",
    "\n",
    "import numpy as np\n",
    "matrix = np.array([[4,5,6], [7,8,9], [20,21,22]])\n",
    "covariance_matrix = np.cov(matrix, rowvar=False)\n",
    "correlation_matrix = np.corrcoef(matrix, rowvar=False)\n",
    "print(\"Covariance matrix:\")\n",
    "print(covariance_matrix)\n",
    "print(\"Correlation matrix:\")\n",
    "print(correlation_matrix)"
   ]
  }
 ],
 "metadata": {
  "kernelspec": {
   "display_name": "Python 3 (ipykernel)",
   "language": "python",
   "name": "python3"
  },
  "language_info": {
   "codemirror_mode": {
    "name": "ipython",
    "version": 3
   },
   "file_extension": ".py",
   "mimetype": "text/x-python",
   "name": "python",
   "nbconvert_exporter": "python",
   "pygments_lexer": "ipython3",
   "version": "3.11.5"
  }
 },
 "nbformat": 4,
 "nbformat_minor": 5
}
