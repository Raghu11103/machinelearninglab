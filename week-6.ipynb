{
 "cells": [
  {
   "cell_type": "code",
   "execution_count": 3,
   "id": "626f2f6a",
   "metadata": {},
   "outputs": [
    {
     "data": {
      "image/png": "[encoded data removed]",
      "text/plain": [
       "<Figure size 720x432 with 1 Axes>"
      ]
     },
     "metadata": {
      "needs_background": "light"
     },
     "output_type": "display_data"
    },
    {
     "name": "stdout",
     "output_type": "stream",
     "text": [
      "Maximum accuracy of 1.00 is achieved at k = 1\n",
      "Accuracy with optimal k: 1.0\n",
      "Confusion Matrix with optimal k:\n",
      " [[19  0  0]\n",
      " [ 0 13  0]\n",
      " [ 0  0 13]]\n"
     ]
    }
   ],
   "source": [
    "# Implement K-NN Classifier for classification of any dataset of your choice.\n",
    "# a. Load an existing data set\n",
    "# b. Split the data set to train and test sets\n",
    "# c. Test your model using test set. Find accuracy and confusion Matrix.\n",
    "# d. Examine the effect of the value of K on accuracy/performance. Plot the curve “k vs\n",
    "# accuracy” and find out the value of k for maximum accuracy for the test samples.\n",
    "# NOTE: Don’t use any library. Develop a generalised function to implement K-NN Classifier.\n",
    "import numpy as np\n",
    "import matplotlib.pyplot as plt\n",
    "from sklearn.datasets import load_iris\n",
    "from sklearn.model_selection import train_test_split\n",
    "from sklearn.neighbors import KNeighborsClassifier\n",
    "from sklearn.metrics import accuracy_score, confusion_matrix\n",
    "\n",
    "iris = load_iris()\n",
    "X = iris.data\n",
    "y = iris.target\n",
    "\n",
    "X_train, X_test, y_train, y_test = train_test_split(X, y, test_size=0.3, random_state=42)\n",
    "\n",
    "def knn_classifier(X_train, y_train, X_test, k):\n",
    "    knn = KNeighborsClassifier(n_neighbors=k)\n",
    "    knn.fit(X_train, y_train)\n",
    "    y_pred = knn.predict(X_test)\n",
    "    return y_pred\n",
    "\n",
    "# Function to calculate accuracy and confusion matrix\n",
    "def evaluate_model(y_true, y_pred):\n",
    "    accuracy = accuracy_score(y_true, y_pred)\n",
    "    confusion_mat = confusion_matrix(y_true, y_pred)\n",
    "    return accuracy, confusion_mat\n",
    "\n",
    "k_values = range(1, 21)  \n",
    "accuracies = []\n",
    "\n",
    "for k in k_values:\n",
    "    y_pred = knn_classifier(X_train, y_train, X_test, k)\n",
    "    accuracy, _ = evaluate_model(y_test, y_pred)\n",
    "    accuracies.append(accuracy)\n",
    "\n",
    "plt.figure(figsize=(10, 6))\n",
    "plt.plot(k_values, accuracies, marker='o', linestyle='-')\n",
    "plt.title('k vs Accuracy')\n",
    "plt.xlabel('k')\n",
    "plt.ylabel('Accuracy')\n",
    "plt.xticks(np.arange(1, 21, 1))\n",
    "plt.grid(True)\n",
    "plt.show()\n",
    "\n",
    "max_accuracy = max(accuracies)\n",
    "optimal_k = k_values[accuracies.index(max_accuracy)]\n",
    "print(f\"Maximum accuracy of {max_accuracy:.2f} is achieved at k = {optimal_k}\")\n",
    "\n",
    "y_pred_optimal = knn_classifier(X_train, y_train, X_test, optimal_k)\n",
    "accuracy_optimal, confusion_matrix_optimal = evaluate_model(y_test, y_pred_optimal)   \n",
    "print(\"Accuracy with optimal k:\", accuracy_optimal)\n",
    "print(\"Confusion Matrix with optimal k:\\n\", confusion_matrix_optimal)\n"
   ]
  }
 ],
 "metadata": {
  "kernelspec": {
   "display_name": "Python 3 (ipykernel)",
   "language": "python",
   "name": "python3"
  },
  "language_info": {
   "codemirror_mode": {
    "name": "ipython",
    "version": 3
   },
   "file_extension": ".py",
   "mimetype": "text/x-python",
   "name": "python",
   "nbconvert_exporter": "python",
   "pygments_lexer": "ipython3",
   "version": "3.9.12"
  }
 },
 "nbformat": 4,
 "nbformat_minor": 5
}
