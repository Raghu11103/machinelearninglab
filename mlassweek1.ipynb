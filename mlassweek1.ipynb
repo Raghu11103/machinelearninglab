{
 "cells": [
  {
   "cell_type": "code",
   "execution_count": 2,
   "id": "c1f4da36",
   "metadata": {},
   "outputs": [
    {
     "name": "stdout",
     "output_type": "stream",
     "text": [
      "array 1:\n",
      "[[2 3 4]\n",
      " [4 2 1]\n",
      " [1 4 2]]\n",
      "array 2:\n",
      "[[5 3 2]\n",
      " [4 3 5]\n",
      " [5 1 3]]\n",
      "\n",
      " multiply two given arrays:\n",
      "[[10  9  8]\n",
      " [16  6  5]\n",
      " [ 5  4  6]]\n"
     ]
    }
   ],
   "source": [
    "import numpy as np\n",
    "num1=np.array([[2,3,4],[4,2,1],[1,4,2]])\n",
    "num2=np.array([[5,3,2],[4,3,5],[5,1,3]])\n",
    "print(\"array 1:\")\n",
    "print(num1)\n",
    "print(\"array 2:\")\n",
    "print(num2)\n",
    "print(\"\\n multiply two given arrays:\")\n",
    "print(np.multiply(num1,num2))"
   ]
  },
  {
   "cell_type": "code",
   "execution_count": 3,
   "id": "2088ebbf",
   "metadata": {},
   "outputs": [
    {
     "name": "stdout",
     "output_type": "stream",
     "text": [
      "Original Array:\n",
      "[[ 3.  2. nan]\n",
      " [ 2.  4.  1.]\n",
      " [nan  2. nan]]\n",
      "\n",
      " find the missing data of the array:\n",
      "[[False False  True]\n",
      " [False False False]\n",
      " [ True False  True]]\n"
     ]
    }
   ],
   "source": [
    "import numpy as np\n",
    "nums=np.array([[3,2,np.nan],[2,4,1],[np.nan,2,np.nan]])\n",
    "print(\"Original Array:\")\n",
    "print(nums)\n",
    "print(\"\\n find the missing data of the array:\")\n",
    "print(np.isnan(nums))"
   ]
  },
  {
   "cell_type": "code",
   "execution_count": 5,
   "id": "3a9ed945",
   "metadata": {},
   "outputs": [
    {
     "name": "stdout",
     "output_type": "stream",
     "text": [
      "array1: [ 0 10 20 30 40]\n",
      "array2: [0, 30]\n",
      "Compare each element of array1 and array2\n",
      "[ True False False  True False]\n"
     ]
    }
   ],
   "source": [
    "import numpy as np\n",
    "array1 = np.array([0,10,20,30,40])\n",
    "print(\"array1:\",array1)\n",
    "array2 = [0,30]\n",
    "print(\"array2:\",array2)\n",
    "print(\"Compare each element of array1 and array2\")\n",
    "print(np.in1d(array1,array2))"
   ]
  },
  {
   "cell_type": "code",
   "execution_count": 14,
   "id": "1df13bd0",
   "metadata": {},
   "outputs": [
    {
     "name": "stdout",
     "output_type": "stream",
     "text": [
      "Array:\n",
      " [1 2 3 4 5]\n",
      "\n",
      "Content in file1.txt:\n",
      " [1 2 3 4 5]\n"
     ]
    }
   ],
   "source": [
    "import numpy as np\n",
    "\n",
    "List = [1, 2, 3, 4, 5]\n",
    "Array = np.array(List)\n",
    "print('Array:\\n', Array)\n",
    "file = open(\"file1.txt\", \"w+\")\n",
    "content = str(Array)\n",
    "file.write(content)\n",
    "file.close()\n",
    "file = open(\"file1.txt\", \"r\")\n",
    "content = file.read()\n",
    "print(\"\\nContent in file1.txt:\\n\", content)\n",
    "file.close()"
   ]
  },
  {
   "cell_type": "code",
   "execution_count": 17,
   "id": "651b544f",
   "metadata": {},
   "outputs": [
    {
     "name": "stdout",
     "output_type": "stream",
     "text": [
      "[2.5        2.63793103 2.77586207 2.9137931  3.05172414 3.18965517\n",
      " 3.32758621 3.46551724 3.60344828 3.74137931 3.87931034 4.01724138\n",
      " 4.15517241 4.29310345 4.43103448 4.56896552 4.70689655 4.84482759\n",
      " 4.98275862 5.12068966 5.25862069 5.39655172 5.53448276 5.67241379\n",
      " 5.81034483 5.94827586 6.0862069  6.22413793 6.36206897 6.5       ]\n"
     ]
    }
   ],
   "source": [
    "import numpy as np\n",
    "x = np.linspace(2.5, 6.5,30)\n",
    "\n",
    "print(x)"
   ]
  },
  {
   "cell_type": "code",
   "execution_count": 8,
   "id": "5d594248",
   "metadata": {},
   "outputs": [
    {
     "name": "stdout",
     "output_type": "stream",
     "text": [
      "0    1\n",
      "1    2\n",
      "2    3\n",
      "3    4\n",
      "4    5\n",
      "5    6\n",
      "6    7\n",
      "7    8\n",
      "8    9\n",
      "dtype: int64\n"
     ]
    }
   ],
   "source": [
    "import pandas as pd\n",
    "data = {'A': [1, 2, 3], 'B': [4, 5, 6], 'C': [7, 8, 9]}\n",
    "series = pd.Series(data)\n",
    "result = series.apply(pd.Series).stack().reset_index(drop=True)\n",
    "print(result)"
   ]
  },
  {
   "cell_type": "code",
   "execution_count": 9,
   "id": "4d45cc1e",
   "metadata": {},
   "outputs": [
    {
     "name": "stdout",
     "output_type": "stream",
     "text": [
      "D    4\n",
      "E    5\n",
      "dtype: int64\n"
     ]
    }
   ],
   "source": [
    "import pandas as pd\n",
    "data = {'A': 1, 'B': 2, 'C': 3, 'D': 4, 'E': 5}\n",
    "series = pd.Series(data)\n",
    "value = 3\n",
    "condition = lambda x: x > value\n",
    "subset = series[series.apply(condition)]\n",
    "print(subset)"
   ]
  },
  {
   "cell_type": "code",
   "execution_count": 11,
   "id": "27ea4196",
   "metadata": {},
   "outputs": [
    {
     "name": "stdout",
     "output_type": "stream",
     "text": [
      "0     Other\n",
      "1    banana\n",
      "2     Other\n",
      "3     Other\n",
      "4    banana\n",
      "5     Other\n",
      "6     Other\n",
      "7     Other\n",
      "8    banana\n",
      "dtype: object\n"
     ]
    }
   ],
   "source": [
    "import pandas as pd\n",
    "s = pd.Series(['apple', 'banana', 'cherry', 'date', 'banana', 'cherry', 'date', 'apple', 'banana'])\n",
    "most_frequent_value = s.value_counts().index[0]\n",
    "s = s.apply(lambda x: x if x == most_frequent_value else 'Other')\n",
    "print(s)"
   ]
  },
  {
   "cell_type": "code",
   "execution_count": 13,
   "id": "67ff3bb1",
   "metadata": {},
   "outputs": [
    {
     "name": "stdout",
     "output_type": "stream",
     "text": [
      "Int64Index([0, 2, 3, 5, 7, 8], dtype='int64')\n"
     ]
    }
   ],
   "source": [
    "import pandas as pd\n",
    "s = pd.Series([10, 22, 35, 40, 53, 60, 71, 80, 95, 109])\n",
    "positions = s[s % 5 == 0].index\n",
    "print(positions)"
   ]
  },
  {
   "cell_type": "code",
   "execution_count": 18,
   "id": "2d271420",
   "metadata": {},
   "outputs": [
    {
     "name": "stdout",
     "output_type": "stream",
     "text": [
      "Original Series:\n",
      "0       Php\n",
      "1    Python\n",
      "2      Java\n",
      "3        C#\n",
      "dtype: object\n",
      "\n",
      "Number of characters in each word in the said series:\n",
      "0    3\n",
      "1    6\n",
      "2    4\n",
      "3    2\n",
      "dtype: int64\n"
     ]
    }
   ],
   "source": [
    "import pandas as pd\n",
    "series1 = pd.Series(['Php', 'Python', 'Java', 'C#'])\n",
    "print(\"Original Series:\")\n",
    "print(series1)\n",
    "result = series1.map(lambda x: len(x))\n",
    "print(\"\\nNumber of characters in each word in the said series:\")\n",
    "print(result)"
   ]
  },
  {
   "cell_type": "code",
   "execution_count": 19,
   "id": "361009ef",
   "metadata": {},
   "outputs": [
    {
     "name": "stdout",
     "output_type": "stream",
     "text": [
      "Original Series:\n",
      "0    Jan 2015\n",
      "1    Feb 2016\n",
      "2    Mar 2017\n",
      "3    Apr 2018\n",
      "4    May 2019\n",
      "dtype: object\n",
      "\n",
      "New dates:\n",
      "0   2015-01-11\n",
      "1   2016-02-11\n",
      "2   2017-03-11\n",
      "3   2018-04-11\n",
      "4   2019-05-11\n",
      "dtype: datetime64[ns]\n"
     ]
    }
   ],
   "source": [
    "import pandas as pd\n",
    "from dateutil.parser import parse\n",
    "date_series = pd.Series(['Jan 2015', 'Feb 2016', 'Mar 2017', 'Apr 2018', 'May 2019'])\n",
    "print(\"Original Series:\")\n",
    "print(date_series)\n",
    "print(\"\\nNew dates:\")\n",
    "result = date_series.map(lambda d: parse('11 ' + d))\n",
    "print(result)"
   ]
  },
  {
   "cell_type": "code",
   "execution_count": 22,
   "id": "04d5f8cc",
   "metadata": {},
   "outputs": [
    {
     "name": "stdout",
     "output_type": "stream",
     "text": [
      "       name  score  attempts qualify\n",
      "a     Anand   12.5         1     yes\n",
      "b     Divya    9.0         3      no\n",
      "c   karthik   16.5         2     yes\n",
      "d     Jhanu    NaN         3      no\n",
      "e     Eswar    9.0         2      no\n",
      "f     Manoj   20.0         3     yes\n",
      "g  Prasanna   14.5         1     yes\n"
     ]
    }
   ],
   "source": [
    "import pandas as pd\n",
    "import numpy as np\n",
    "\n",
    "exam_data  = {'name': ['Anand', 'Divya', 'karthik', 'Jhanu', 'Eswar', 'Manoj', 'Prasanna'],\n",
    "        'score': [12.5, 9, 16.5, np.nan, 9, 20, 14.5],\n",
    "        'attempts': [1, 3, 2, 3, 2, 3, 1],\n",
    "        'qualify': ['yes', 'no', 'yes', 'no', 'no', 'yes', 'yes']}\n",
    "labels = ['a', 'b', 'c', 'd', 'e', 'f', 'g' ]\n",
    "\n",
    "df = pd.DataFrame(exam_data , index=labels)\n",
    "print(df)"
   ]
  },
  {
   "cell_type": "code",
   "execution_count": 24,
   "id": "a04d9e06",
   "metadata": {},
   "outputs": [
    {
     "name": "stdout",
     "output_type": "stream",
     "text": [
      "Number of attempts in the examination is greater than 2:\n",
      "    name  score  attempts qualify\n",
      "b  Divya    9.0         3      no\n",
      "d  Jhanu    NaN         3      no\n",
      "f  Manoj   20.0         3     yes\n"
     ]
    }
   ],
   "source": [
    "import numpy as np\n",
    "\n",
    "exam_data  = {'name': ['Anand', 'Divya', 'karthik', 'Jhanu', 'Eswar', 'Manoj', 'Prasanna'],\n",
    "        'score': [12.5, 9, 16.5, np.nan, 9, 20, 14.5,],\n",
    "        'attempts' : [1, 3, 2, 3, 2, 3, 1],\n",
    "        'qualify': ['yes', 'no', 'yes', 'no', 'no', 'yes', 'yes']}\n",
    "labels = ['a', 'b', 'c', 'd', 'e', 'f', 'g']\n",
    "\n",
    "df = pd.DataFrame(exam_data , index=labels)\n",
    "print(\"Number of attempts in the examination is greater than 2:\")\n",
    "print(df[df['attempts'] > 2])"
   ]
  },
  {
   "cell_type": "code",
   "execution_count": 25,
   "id": "ee0ffb4f",
   "metadata": {},
   "outputs": [
    {
     "name": "stdout",
     "output_type": "stream",
     "text": [
      "Original rows:\n",
      "       name  score  attempts qualify\n",
      "a     Anand   12.5         1     yes\n",
      "b     Divya    9.0         3      no\n",
      "c   karthik   16.5         2     yes\n",
      "d     Jhanu    NaN         3      no\n",
      "e     Eswar    9.0         2      no\n",
      "f     Manoj   20.0         3     yes\n",
      "g  Prasanna   14.5         1     yes\n",
      "\n",
      "Append a new row:\n",
      "Print all records after insert a new record:\n",
      "       name   score attempts qualify\n",
      "a     Anand    12.5        1     yes\n",
      "b     Divya     9.0        3      no\n",
      "c   karthik    16.5        2     yes\n",
      "d     Jhanu     NaN        3      no\n",
      "e     Eswar     9.0        2      no\n",
      "f     Manoj    20.0        3     yes\n",
      "g  Prasanna    14.5        1     yes\n",
      "k         1  Suresh      yes    15.5\n",
      "\n",
      "Delete the new row and display the original  rows:\n",
      "       name score attempts qualify\n",
      "a     Anand  12.5        1     yes\n",
      "b     Divya   9.0        3      no\n",
      "c   karthik  16.5        2     yes\n",
      "d     Jhanu   NaN        3      no\n",
      "e     Eswar   9.0        2      no\n",
      "f     Manoj  20.0        3     yes\n",
      "g  Prasanna  14.5        1     yes\n"
     ]
    }
   ],
   "source": [
    "import pandas as pd\n",
    "import numpy as np\n",
    "exam_data  = {'name': ['Anand', 'Divya', 'karthik', 'Jhanu', 'Eswar', 'Manoj', 'Prasanna'],\n",
    "        'score': [12.5, 9, 16.5, np.nan, 9, 20, 14.5,],\n",
    "        'attempts' : [1, 3, 2, 3, 2, 3, 1],\n",
    "        'qualify': ['yes', 'no', 'yes', 'no', 'no', 'yes', 'yes']}\n",
    "labels = ['a', 'b', 'c', 'd', 'e', 'f', 'g']\n",
    "\n",
    "df = pd.DataFrame(exam_data , index=labels)\n",
    "print(\"Original rows:\")\n",
    "print(df)\n",
    "print(\"\\nAppend a new row:\")\n",
    "df.loc['k'] = [1, 'Suresh', 'yes', 15.5]\n",
    "print(\"Print all records after insert a new record:\")\n",
    "print(df)\n",
    "print(\"\\nDelete the new row and display the original  rows:\")\n",
    "df = df.drop('k')\n",
    "print(df)"
   ]
  },
  {
   "cell_type": "code",
   "execution_count": 26,
   "id": "cf6cbd42",
   "metadata": {},
   "outputs": [
    {
     "name": "stdout",
     "output_type": "stream",
     "text": [
      "Orginal rows:\n",
      "       name  score  attempts qualify\n",
      "a     Anand   12.5         1     yes\n",
      "b     Divya    9.0         3      no\n",
      "c   karthik   16.5         2     yes\n",
      "d     Jhanu    NaN         3      no\n",
      "e     Eswar    9.0         2      no\n",
      "f     Manoj   20.0         3     yes\n",
      "g  Prasanna   14.5         1     yes\n",
      "Sort the data frame first by ‘name’ in descending order, then by ‘score’ in ascending order:\n",
      "       name  score  attempts qualify\n",
      "c   karthik   16.5         2     yes\n",
      "g  Prasanna   14.5         1     yes\n",
      "f     Manoj   20.0         3     yes\n",
      "d     Jhanu    NaN         3      no\n",
      "e     Eswar    9.0         2      no\n",
      "b     Divya    9.0         3      no\n",
      "a     Anand   12.5         1     yes\n"
     ]
    }
   ],
   "source": [
    "import pandas as pd\n",
    "import numpy as np\n",
    "exam_data  = {'name': ['Anand', 'Divya', 'karthik', 'Jhanu', 'Eswar', 'Manoj', 'Prasanna'],\n",
    "        'score': [12.5, 9, 16.5, np.nan, 9, 20, 14.5,],\n",
    "        'attempts' : [1, 3, 2, 3, 2, 3, 1],\n",
    "        'qualify': ['yes', 'no', 'yes', 'no', 'no', 'yes', 'yes']}\n",
    "labels = ['a', 'b', 'c', 'd', 'e', 'f', 'g']\n",
    "df = pd.DataFrame(exam_data , index=labels)\n",
    "print(\"Orginal rows:\")\n",
    "print(df)\n",
    "df = df.sort_values(by=['name', 'score'], ascending=[False, True])\n",
    "print(\"Sort the data frame first by ‘name’ in descending order, then by ‘score’ in ascending order:\")\n",
    "print(df)"
   ]
  },
  {
   "cell_type": "code",
   "execution_count": 27,
   "id": "fa03d790",
   "metadata": {},
   "outputs": [
    {
     "name": "stdout",
     "output_type": "stream",
     "text": [
      "Original rows:\n",
      "       name  score  attempts qualify\n",
      "a     Anand   12.5         1     yes\n",
      "b     Divya    9.0         3      no\n",
      "c   karthik   16.5         2     yes\n",
      "d     Jhanu    NaN         3      no\n",
      "e     Eswar    9.0         2      no\n",
      "f     Manoj   20.0         3     yes\n",
      "g  Prasanna   14.5         1     yes\n",
      "\n",
      "Replace the 'qualify' column contains the values 'yes' and 'no'  with True and  False:\n",
      "       name  score  attempts  qualify\n",
      "a     Anand   12.5         1     True\n",
      "b     Divya    9.0         3    False\n",
      "c   karthik   16.5         2     True\n",
      "d     Jhanu    NaN         3    False\n",
      "e     Eswar    9.0         2    False\n",
      "f     Manoj   20.0         3     True\n",
      "g  Prasanna   14.5         1     True\n"
     ]
    }
   ],
   "source": [
    "import pandas as pd\n",
    "import numpy as np\n",
    "exam_data  = {'name': ['Anand', 'Divya', 'karthik', 'Jhanu', 'Eswar', 'Manoj', 'Prasanna'],\n",
    "        'score': [12.5, 9, 16.5, np.nan, 9, 20, 14.5,],\n",
    "        'attempts' : [1, 3, 2, 3, 2, 3, 1],\n",
    "        'qualify': ['yes', 'no', 'yes', 'no', 'no', 'yes', 'yes']}\n",
    "labels = ['a', 'b', 'c', 'd', 'e', 'f', 'g']\n",
    "df = pd.DataFrame(exam_data , index=labels)\n",
    "print(\"Original rows:\")\n",
    "print(df)\n",
    "print(\"\\nReplace the 'qualify' column contains the values 'yes' and 'no'  with True and  False:\")\n",
    "df['qualify'] = df['qualify'].map({'yes': True, 'no': False})\n",
    "print(df)"
   ]
  },
  {
   "cell_type": "code",
   "execution_count": 31,
   "id": "089aa8fc",
   "metadata": {},
   "outputs": [
    {
     "data": {
      "text/html": [
       "<div>\n",
       "<style scoped>\n",
       "    .dataframe tbody tr th:only-of-type {\n",
       "        vertical-align: middle;\n",
       "    }\n",
       "\n",
       "    .dataframe tbody tr th {\n",
       "        vertical-align: top;\n",
       "    }\n",
       "\n",
       "    .dataframe thead th {\n",
       "        text-align: right;\n",
       "    }\n",
       "</style>\n",
       "<table border=\"1\" class=\"dataframe\">\n",
       "  <thead>\n",
       "    <tr style=\"text-align: right;\">\n",
       "      <th></th>\n",
       "      <th>name</th>\n",
       "      <th>score</th>\n",
       "      <th>attempts</th>\n",
       "      <th>qualify</th>\n",
       "    </tr>\n",
       "  </thead>\n",
       "  <tbody>\n",
       "    <tr>\n",
       "      <th>0</th>\n",
       "      <td>Anand</td>\n",
       "      <td>12.5</td>\n",
       "      <td>1</td>\n",
       "      <td>yes</td>\n",
       "    </tr>\n",
       "    <tr>\n",
       "      <th>1</th>\n",
       "      <td>Divya</td>\n",
       "      <td>inf</td>\n",
       "      <td>3</td>\n",
       "      <td>no</td>\n",
       "    </tr>\n",
       "    <tr>\n",
       "      <th>2</th>\n",
       "      <td>karthik</td>\n",
       "      <td>16.5</td>\n",
       "      <td>2</td>\n",
       "      <td>yes</td>\n",
       "    </tr>\n",
       "    <tr>\n",
       "      <th>3</th>\n",
       "      <td>Jhanu</td>\n",
       "      <td>-inf</td>\n",
       "      <td>3</td>\n",
       "      <td>no</td>\n",
       "    </tr>\n",
       "    <tr>\n",
       "      <th>4</th>\n",
       "      <td>Eswar</td>\n",
       "      <td>9.0</td>\n",
       "      <td>2</td>\n",
       "      <td>no</td>\n",
       "    </tr>\n",
       "    <tr>\n",
       "      <th>5</th>\n",
       "      <td>Manoj</td>\n",
       "      <td>20.0</td>\n",
       "      <td>3</td>\n",
       "      <td>yes</td>\n",
       "    </tr>\n",
       "    <tr>\n",
       "      <th>6</th>\n",
       "      <td>Prasanna</td>\n",
       "      <td>14.5</td>\n",
       "      <td>1</td>\n",
       "      <td>yes</td>\n",
       "    </tr>\n",
       "  </tbody>\n",
       "</table>\n",
       "</div>"
      ],
      "text/plain": [
       "       name  score  attempts qualify\n",
       "0     Anand   12.5         1     yes\n",
       "1     Divya    inf         3      no\n",
       "2   karthik   16.5         2     yes\n",
       "3     Jhanu   -inf         3      no\n",
       "4     Eswar    9.0         2      no\n",
       "5     Manoj   20.0         3     yes\n",
       "6  Prasanna   14.5         1     yes"
      ]
     },
     "execution_count": 31,
     "metadata": {},
     "output_type": "execute_result"
    }
   ],
   "source": [
    "import pandas as pd \n",
    "import numpy as np \n",
    "\n",
    "exam_data  = {'name': ['Anand', 'Divya', 'karthik', 'Jhanu', 'Eswar', 'Manoj', 'Prasanna'],\n",
    "        'score': [12.5, np.inf, 16.5, -np.inf, 9, 20, 14.5,],\n",
    "        'attempts' : [1, 3, 2, 3, 2, 3, 1],\n",
    "        'qualify': ['yes', 'no', 'yes', 'no', 'no', 'yes', 'yes']}\n",
    "labels = ['a', 'b', 'c', 'd', 'e', 'f', 'g']\n",
    "df = pd.DataFrame(exam_data) \n",
    "df\n"
   ]
  },
  {
   "cell_type": "code",
   "execution_count": null,
   "id": "c757a43a",
   "metadata": {},
   "outputs": [],
   "source": [
    "\n"
   ]
  },
  {
   "cell_type": "code",
   "execution_count": null,
   "id": "0dc4e230",
   "metadata": {},
   "outputs": [],
   "source": []
  }
 ],
 "metadata": {
  "kernelspec": {
   "display_name": "Python 3 (ipykernel)",
   "language": "python",
   "name": "python3"
  },
  "language_info": {
   "codemirror_mode": {
    "name": "ipython",
    "version": 3
   },
   "file_extension": ".py",
   "mimetype": "text/x-python",
   "name": "python",
   "nbconvert_exporter": "python",
   "pygments_lexer": "ipython3",
   "version": "3.9.12"
  }
 },
 "nbformat": 4,
 "nbformat_minor": 5
}
